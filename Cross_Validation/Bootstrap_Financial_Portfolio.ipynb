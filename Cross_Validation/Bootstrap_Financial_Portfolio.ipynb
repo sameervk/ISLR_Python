{
 "cells": [
  {
   "cell_type": "code",
   "execution_count": 1,
   "metadata": {},
   "outputs": [
    {
     "data": {
      "text/plain": [
       "'Author: Sameer Kesava\\n\\nEstimating the variance in the data using Bootstrap. \\n\\nImplementing Parallel Processing using Multiprocessing package.\\n\\nPortfolio dataset containing returns of two assets X and Y.\\nObjective is to estimate ratio of investment f/(1-f) between the two.\\nConsidering the variance in X and Y, the objective function is to minimize Variance (fX + (1-f)Y).\\n\\nf is a function of variance of X, Y and XY (refer to book below). \\n\\nProblem statement from Chapter 5\\nBook: An Introduction to Statistical Learning with Applications in R, \\n       Gareth James, Daniela Witten, Trevor Hastie and Robert Tibshirani\\n\\nDataset: Portfolio (downloaded from https://www-bcf.usc.edu/~gareth/ISL/ and converted to csv)\\n\\nPackages used: numpy, pandas, sklearn and matplotlib'"
      ]
     },
     "execution_count": 1,
     "metadata": {},
     "output_type": "execute_result"
    }
   ],
   "source": [
    "\"\"\"Author: Sameer Kesava\n",
    "\n",
    "Estimating the variance in the data using Bootstrap. \n",
    "\n",
    "Implementing Parallel Processing using Multiprocessing package.\n",
    "\n",
    "Portfolio dataset containing returns of two assets X and Y.\n",
    "Objective is to estimate ratio of investment f/(1-f) between the two.\n",
    "Considering the variance in X and Y, the objective function is to minimize Variance (fX + (1-f)Y).\n",
    "\n",
    "f is a function of variance of X, Y and XY (refer to book below). \n",
    "\n",
    "Problem statement from Chapter 5\n",
    "Book: An Introduction to Statistical Learning with Applications in R, \n",
    "       Gareth James, Daniela Witten, Trevor Hastie and Robert Tibshirani\n",
    "\n",
    "Dataset: Portfolio (downloaded from https://www-bcf.usc.edu/~gareth/ISL/ and converted to csv)\n",
    "\n",
    "Packages used: numpy, pandas, sklearn and matplotlib\"\"\""
   ]
  },
  {
   "cell_type": "code",
   "execution_count": 2,
   "metadata": {},
   "outputs": [],
   "source": [
    "import pandas as pd\n",
    "import numpy as np\n",
    "import matplotlib.pyplot as plt"
   ]
  },
  {
   "cell_type": "code",
   "execution_count": 3,
   "metadata": {},
   "outputs": [
    {
     "data": {
      "text/html": [
       "<style>.container { width:100% !important; }</style>"
      ],
      "text/plain": [
       "<IPython.core.display.HTML object>"
      ]
     },
     "metadata": {},
     "output_type": "display_data"
    }
   ],
   "source": [
    "pd.options.display.max_columns = 100\n",
    "\n",
    "from IPython.core.display import display, HTML\n",
    "display(HTML(\"<style>.container { width:100% !important; }</style>\"))"
   ]
  },
  {
   "cell_type": "code",
   "execution_count": 4,
   "metadata": {},
   "outputs": [
    {
     "data": {
      "text/html": [
       "<div>\n",
       "<style scoped>\n",
       "    .dataframe tbody tr th:only-of-type {\n",
       "        vertical-align: middle;\n",
       "    }\n",
       "\n",
       "    .dataframe tbody tr th {\n",
       "        vertical-align: top;\n",
       "    }\n",
       "\n",
       "    .dataframe thead th {\n",
       "        text-align: right;\n",
       "    }\n",
       "</style>\n",
       "<table border=\"1\" class=\"dataframe\">\n",
       "  <thead>\n",
       "    <tr style=\"text-align: right;\">\n",
       "      <th></th>\n",
       "      <th>X</th>\n",
       "      <th>Y</th>\n",
       "    </tr>\n",
       "  </thead>\n",
       "  <tbody>\n",
       "    <tr>\n",
       "      <th>1</th>\n",
       "      <td>-0.895251</td>\n",
       "      <td>-0.234924</td>\n",
       "    </tr>\n",
       "    <tr>\n",
       "      <th>2</th>\n",
       "      <td>-1.562454</td>\n",
       "      <td>-0.885176</td>\n",
       "    </tr>\n",
       "    <tr>\n",
       "      <th>3</th>\n",
       "      <td>-0.417090</td>\n",
       "      <td>0.271888</td>\n",
       "    </tr>\n",
       "    <tr>\n",
       "      <th>4</th>\n",
       "      <td>1.044356</td>\n",
       "      <td>-0.734198</td>\n",
       "    </tr>\n",
       "    <tr>\n",
       "      <th>5</th>\n",
       "      <td>-0.315568</td>\n",
       "      <td>0.841983</td>\n",
       "    </tr>\n",
       "    <tr>\n",
       "      <th>6</th>\n",
       "      <td>-1.737124</td>\n",
       "      <td>-2.037191</td>\n",
       "    </tr>\n",
       "    <tr>\n",
       "      <th>7</th>\n",
       "      <td>1.966413</td>\n",
       "      <td>1.452957</td>\n",
       "    </tr>\n",
       "    <tr>\n",
       "      <th>8</th>\n",
       "      <td>2.152868</td>\n",
       "      <td>-0.434139</td>\n",
       "    </tr>\n",
       "    <tr>\n",
       "      <th>9</th>\n",
       "      <td>-0.081208</td>\n",
       "      <td>1.450809</td>\n",
       "    </tr>\n",
       "    <tr>\n",
       "      <th>10</th>\n",
       "      <td>-0.891782</td>\n",
       "      <td>0.821016</td>\n",
       "    </tr>\n",
       "  </tbody>\n",
       "</table>\n",
       "</div>"
      ],
      "text/plain": [
       "           X         Y\n",
       "1  -0.895251 -0.234924\n",
       "2  -1.562454 -0.885176\n",
       "3  -0.417090  0.271888\n",
       "4   1.044356 -0.734198\n",
       "5  -0.315568  0.841983\n",
       "6  -1.737124 -2.037191\n",
       "7   1.966413  1.452957\n",
       "8   2.152868 -0.434139\n",
       "9  -0.081208  1.450809\n",
       "10 -0.891782  0.821016"
      ]
     },
     "execution_count": 4,
     "metadata": {},
     "output_type": "execute_result"
    }
   ],
   "source": [
    "data_df = pd.read_csv(\"Portfolio\")\n",
    "data_df.head(10)"
   ]
  },
  {
   "cell_type": "code",
   "execution_count": 5,
   "metadata": {},
   "outputs": [
    {
     "data": {
      "text/html": [
       "<div>\n",
       "<style scoped>\n",
       "    .dataframe tbody tr th:only-of-type {\n",
       "        vertical-align: middle;\n",
       "    }\n",
       "\n",
       "    .dataframe tbody tr th {\n",
       "        vertical-align: top;\n",
       "    }\n",
       "\n",
       "    .dataframe thead th {\n",
       "        text-align: right;\n",
       "    }\n",
       "</style>\n",
       "<table border=\"1\" class=\"dataframe\">\n",
       "  <thead>\n",
       "    <tr style=\"text-align: right;\">\n",
       "      <th></th>\n",
       "      <th>X</th>\n",
       "      <th>Y</th>\n",
       "    </tr>\n",
       "  </thead>\n",
       "  <tbody>\n",
       "    <tr>\n",
       "      <th>count</th>\n",
       "      <td>100.000000</td>\n",
       "      <td>100.000000</td>\n",
       "    </tr>\n",
       "    <tr>\n",
       "      <th>mean</th>\n",
       "      <td>-0.077132</td>\n",
       "      <td>-0.096945</td>\n",
       "    </tr>\n",
       "    <tr>\n",
       "      <th>std</th>\n",
       "      <td>1.062376</td>\n",
       "      <td>1.143782</td>\n",
       "    </tr>\n",
       "    <tr>\n",
       "      <th>min</th>\n",
       "      <td>-2.432764</td>\n",
       "      <td>-2.725281</td>\n",
       "    </tr>\n",
       "    <tr>\n",
       "      <th>25%</th>\n",
       "      <td>-0.888474</td>\n",
       "      <td>-0.885722</td>\n",
       "    </tr>\n",
       "    <tr>\n",
       "      <th>50%</th>\n",
       "      <td>-0.268889</td>\n",
       "      <td>-0.228708</td>\n",
       "    </tr>\n",
       "    <tr>\n",
       "      <th>75%</th>\n",
       "      <td>0.558093</td>\n",
       "      <td>0.806708</td>\n",
       "    </tr>\n",
       "    <tr>\n",
       "      <th>max</th>\n",
       "      <td>2.460336</td>\n",
       "      <td>2.565985</td>\n",
       "    </tr>\n",
       "  </tbody>\n",
       "</table>\n",
       "</div>"
      ],
      "text/plain": [
       "                X           Y\n",
       "count  100.000000  100.000000\n",
       "mean    -0.077132   -0.096945\n",
       "std      1.062376    1.143782\n",
       "min     -2.432764   -2.725281\n",
       "25%     -0.888474   -0.885722\n",
       "50%     -0.268889   -0.228708\n",
       "75%      0.558093    0.806708\n",
       "max      2.460336    2.565985"
      ]
     },
     "execution_count": 5,
     "metadata": {},
     "output_type": "execute_result"
    }
   ],
   "source": [
    "data_df.describe()"
   ]
  },
  {
   "cell_type": "code",
   "execution_count": 6,
   "metadata": {},
   "outputs": [
    {
     "data": {
      "text/html": [
       "<div>\n",
       "<style scoped>\n",
       "    .dataframe tbody tr th:only-of-type {\n",
       "        vertical-align: middle;\n",
       "    }\n",
       "\n",
       "    .dataframe tbody tr th {\n",
       "        vertical-align: top;\n",
       "    }\n",
       "\n",
       "    .dataframe thead th {\n",
       "        text-align: right;\n",
       "    }\n",
       "</style>\n",
       "<table border=\"1\" class=\"dataframe\">\n",
       "  <thead>\n",
       "    <tr style=\"text-align: right;\">\n",
       "      <th></th>\n",
       "      <th>X</th>\n",
       "      <th>Y</th>\n",
       "    </tr>\n",
       "  </thead>\n",
       "  <tbody>\n",
       "    <tr>\n",
       "      <th>X</th>\n",
       "      <td>1.000000</td>\n",
       "      <td>0.515468</td>\n",
       "    </tr>\n",
       "    <tr>\n",
       "      <th>Y</th>\n",
       "      <td>0.515468</td>\n",
       "      <td>1.000000</td>\n",
       "    </tr>\n",
       "  </tbody>\n",
       "</table>\n",
       "</div>"
      ],
      "text/plain": [
       "          X         Y\n",
       "X  1.000000  0.515468\n",
       "Y  0.515468  1.000000"
      ]
     },
     "execution_count": 6,
     "metadata": {},
     "output_type": "execute_result"
    }
   ],
   "source": [
    "#Checking Correlation\n",
    "data_df.corr(method = 'pearson')"
   ]
  },
  {
   "cell_type": "code",
   "execution_count": 7,
   "metadata": {},
   "outputs": [
    {
     "data": {
      "text/html": [
       "<div>\n",
       "<style scoped>\n",
       "    .dataframe tbody tr th:only-of-type {\n",
       "        vertical-align: middle;\n",
       "    }\n",
       "\n",
       "    .dataframe tbody tr th {\n",
       "        vertical-align: top;\n",
       "    }\n",
       "\n",
       "    .dataframe thead th {\n",
       "        text-align: right;\n",
       "    }\n",
       "</style>\n",
       "<table border=\"1\" class=\"dataframe\">\n",
       "  <thead>\n",
       "    <tr style=\"text-align: right;\">\n",
       "      <th></th>\n",
       "      <th>X</th>\n",
       "      <th>Y</th>\n",
       "    </tr>\n",
       "  </thead>\n",
       "  <tbody>\n",
       "    <tr>\n",
       "      <th>X</th>\n",
       "      <td>1.128642</td>\n",
       "      <td>0.626358</td>\n",
       "    </tr>\n",
       "    <tr>\n",
       "      <th>Y</th>\n",
       "      <td>0.626358</td>\n",
       "      <td>1.308237</td>\n",
       "    </tr>\n",
       "  </tbody>\n",
       "</table>\n",
       "</div>"
      ],
      "text/plain": [
       "          X         Y\n",
       "X  1.128642  0.626358\n",
       "Y  0.626358  1.308237"
      ]
     },
     "execution_count": 7,
     "metadata": {},
     "output_type": "execute_result"
    }
   ],
   "source": [
    "#Variance and Covariance\n",
    "cov = data_df.cov()\n",
    "cov"
   ]
  },
  {
   "cell_type": "code",
   "execution_count": null,
   "metadata": {},
   "outputs": [],
   "source": []
  },
  {
   "cell_type": "markdown",
   "metadata": {},
   "source": [
    "### Using Sparse Matrices to store the data generated during parallel processing"
   ]
  },
  {
   "cell_type": "markdown",
   "metadata": {},
   "source": [
    "#### Lists are appended to directly without creating a new copy unlike numpy arrays. Hence should be more efficient.\n",
    "#### However, using sparse matrices here"
   ]
  },
  {
   "cell_type": "code",
   "execution_count": 8,
   "metadata": {},
   "outputs": [],
   "source": [
    "from sys import getsizeof\n",
    "from scipy.sparse import lil_matrix"
   ]
  },
  {
   "cell_type": "code",
   "execution_count": 9,
   "metadata": {},
   "outputs": [],
   "source": [
    "bootstrap_num = 1000"
   ]
  },
  {
   "cell_type": "code",
   "execution_count": 10,
   "metadata": {},
   "outputs": [],
   "source": [
    "cov_arr = lil_matrix((bootstrap_num,3), dtype = 'float32')"
   ]
  },
  {
   "cell_type": "code",
   "execution_count": 11,
   "metadata": {},
   "outputs": [
    {
     "data": {
      "text/plain": [
       "56"
      ]
     },
     "execution_count": 11,
     "metadata": {},
     "output_type": "execute_result"
    }
   ],
   "source": [
    "getsizeof(cov_arr)"
   ]
  },
  {
   "cell_type": "code",
   "execution_count": 12,
   "metadata": {},
   "outputs": [
    {
     "data": {
      "text/plain": [
       "12112"
      ]
     },
     "execution_count": 12,
     "metadata": {},
     "output_type": "execute_result"
    }
   ],
   "source": [
    "#In comparison, initiating a numpy zeros array takes\n",
    "zeros_arr = np.zeros((bootstrap_num,3), dtype = 'float32')\n",
    "getsizeof(zeros_arr)"
   ]
  },
  {
   "cell_type": "code",
   "execution_count": 13,
   "metadata": {},
   "outputs": [],
   "source": [
    "from sklearn.utils import resample"
   ]
  },
  {
   "cell_type": "code",
   "execution_count": 14,
   "metadata": {},
   "outputs": [],
   "source": [
    "#Sampling data with replacements\n",
    "def resampling(sparse_arr, index):\n",
    "    temp = resample(data_df, replace = True, n_samples = len(data_df))\n",
    "    var_array = temp.cov().values #2D array: Variances of X and Y along the diagonal and covariances along the off-diagonal\n",
    "    sparse_arr[index] = np.concatenate((var_array.diagonal(), var_array.diagonal(1)))"
   ]
  },
  {
   "cell_type": "code",
   "execution_count": 15,
   "metadata": {},
   "outputs": [
    {
     "name": "stdout",
     "output_type": "stream",
     "text": [
      "[[1.0411153  1.2722979  0.6251851 ]\n",
      " [1.2426138  1.1934288  0.52237135]\n",
      " [0.857746   0.9831853  0.5390517 ]\n",
      " [1.4199594  1.2637153  0.8886996 ]\n",
      " [0.77296114 1.1275599  0.4244878 ]]\n",
      "Time taken: 0.82s\n"
     ]
    }
   ],
   "source": [
    "#Serial Processing\n",
    "import time\n",
    "start_time = time.time() #can use timeit but this is easier\n",
    "for i in range(bootstrap_num): #Serial operation\n",
    "    resampling(cov_arr, i)\n",
    "\n",
    "print(cov_arr.toarray()[:5])\n",
    "end_time = time.time()\n",
    "print('Time taken: {:.2f}s'.format(end_time-start_time))"
   ]
  },
  {
   "cell_type": "code",
   "execution_count": 16,
   "metadata": {},
   "outputs": [
    {
     "data": {
      "text/plain": [
       "56"
      ]
     },
     "execution_count": 16,
     "metadata": {},
     "output_type": "execute_result"
    }
   ],
   "source": [
    "getsizeof(cov_arr)"
   ]
  },
  {
   "cell_type": "code",
   "execution_count": 17,
   "metadata": {},
   "outputs": [
    {
     "data": {
      "text/plain": [
       "12112"
      ]
     },
     "execution_count": 17,
     "metadata": {},
     "output_type": "execute_result"
    }
   ],
   "source": [
    "getsizeof(cov_arr.toarray())\n",
    "#same as zeros array"
   ]
  },
  {
   "cell_type": "markdown",
   "metadata": {},
   "source": [
    "### Parallel processing "
   ]
  },
  {
   "cell_type": "code",
   "execution_count": 18,
   "metadata": {},
   "outputs": [
    {
     "name": "stdout",
     "output_type": "stream",
     "text": [
      "Cores:  4\n",
      "Threads:  4\n"
     ]
    }
   ],
   "source": [
    "#Checking the number of cores and threads\n",
    "import psutil\n",
    "print('Cores: ', psutil.cpu_count(logical=False))\n",
    "print('Threads: ', psutil.cpu_count(logical=True))"
   ]
  },
  {
   "cell_type": "code",
   "execution_count": 19,
   "metadata": {},
   "outputs": [],
   "source": [
    "from multiprocessing.pool import ThreadPool"
   ]
  },
  {
   "cell_type": "code",
   "execution_count": 20,
   "metadata": {},
   "outputs": [
    {
     "name": "stdout",
     "output_type": "stream",
     "text": [
      "Time taken: 1.18s\n",
      "[[0.94907165 1.3240218  0.5875494 ]]\n"
     ]
    }
   ],
   "source": [
    "#Multiprocess, Synchronous sampling with replacement\n",
    "def resampling_sync(sparse_arr, index):\n",
    "    temp = resample(data_df, replace = True, n_samples = len(data_df))\n",
    "    var_array = temp.cov().values #2D array: Variances of X and Y along the diagonal and covariances along the off-diagonal\n",
    "    sparse_arr[index] = np.concatenate((var_array.diagonal(), var_array.diagonal(1)))\n",
    "\n",
    "cov_arr_pool_sync = lil_matrix((bootstrap_num,3), dtype = 'float32')\n",
    "\n",
    "def main():\n",
    "    start_time = time.time()\n",
    "    [pooling.apply(resampling_sync, args = (cov_arr_pool_sync, i)) for i in range(bootstrap_num)];\n",
    "    end_time = time.time()\n",
    "    print('Time taken: {:.2f}s'.format(end_time-start_time))\n",
    "    print(cov_arr_pool_sync[0].toarray())\n",
    "    \n",
    "if __name__ == '__main__':\n",
    "    pooling = ThreadPool(processes=4)\n",
    "    main() "
   ]
  },
  {
   "cell_type": "code",
   "execution_count": 21,
   "metadata": {},
   "outputs": [
    {
     "name": "stdout",
     "output_type": "stream",
     "text": [
      "Time taken: 0.01s\n",
      "[[1.161 1.48  0.746]]\n"
     ]
    }
   ],
   "source": [
    "#Multiprocess, Asynchronous sampling with replacement\n",
    "\n",
    "def resampling_async_sparse(sparse_arr, index):\n",
    "    temp = resample(data_df, replace = True, n_samples = len(data_df))\n",
    "    var_array = temp.cov().values #2D array: Variances of X and Y along the diagonal and covariances along the off-diagonal\n",
    "    sparse_arr[index] = np.concatenate((var_array.diagonal(), var_array.diagonal(1)))\n",
    "    \n",
    "cov_arr_pool_async = lil_matrix((bootstrap_num,3), dtype = 'float32')\n",
    "\n",
    "def main():\n",
    "    [pooling.apply_async(resampling_async_sparse, args = (cov_arr_pool_async, i)) for i in range(bootstrap_num)];\n",
    "    #executing like above as in sync, results in output as [0,0,0]. \n",
    "    #Implies any commands following apply_async are executed while it is being executed\n",
    "if __name__ == '__main__':\n",
    "    pooling = ThreadPool(processes=4)    \n",
    "    start_time = time.time()\n",
    "    main()\n",
    "    end_time = time.time()\n",
    "    print('Time taken: {:.2f}s'.format(end_time-start_time))\n",
    "    print('{}'.format(np.round_(cov_arr_pool_async[0].toarray(), decimals=3)))"
   ]
  },
  {
   "cell_type": "code",
   "execution_count": 22,
   "metadata": {},
   "outputs": [
    {
     "data": {
      "text/plain": [
       "12112"
      ]
     },
     "execution_count": 22,
     "metadata": {},
     "output_type": "execute_result"
    }
   ],
   "source": [
    "getsizeof(cov_arr_pool_async.toarray())"
   ]
  },
  {
   "cell_type": "code",
   "execution_count": 23,
   "metadata": {},
   "outputs": [
    {
     "data": {
      "text/html": [
       "<div>\n",
       "<style scoped>\n",
       "    .dataframe tbody tr th:only-of-type {\n",
       "        vertical-align: middle;\n",
       "    }\n",
       "\n",
       "    .dataframe tbody tr th {\n",
       "        vertical-align: top;\n",
       "    }\n",
       "\n",
       "    .dataframe thead th {\n",
       "        text-align: right;\n",
       "    }\n",
       "</style>\n",
       "<table border=\"1\" class=\"dataframe\">\n",
       "  <thead>\n",
       "    <tr style=\"text-align: right;\">\n",
       "      <th></th>\n",
       "      <th>X</th>\n",
       "      <th>Y</th>\n",
       "      <th>XY</th>\n",
       "    </tr>\n",
       "  </thead>\n",
       "  <tbody>\n",
       "    <tr>\n",
       "      <th>count</th>\n",
       "      <td>1000.000000</td>\n",
       "      <td>1000.000000</td>\n",
       "      <td>1000.000000</td>\n",
       "    </tr>\n",
       "    <tr>\n",
       "      <th>mean</th>\n",
       "      <td>1.119627</td>\n",
       "      <td>1.292084</td>\n",
       "      <td>0.623398</td>\n",
       "    </tr>\n",
       "    <tr>\n",
       "      <th>std</th>\n",
       "      <td>0.140114</td>\n",
       "      <td>0.168757</td>\n",
       "      <td>0.113104</td>\n",
       "    </tr>\n",
       "    <tr>\n",
       "      <th>min</th>\n",
       "      <td>0.770379</td>\n",
       "      <td>0.788366</td>\n",
       "      <td>0.335519</td>\n",
       "    </tr>\n",
       "    <tr>\n",
       "      <th>25%</th>\n",
       "      <td>1.024508</td>\n",
       "      <td>1.171304</td>\n",
       "      <td>0.541678</td>\n",
       "    </tr>\n",
       "    <tr>\n",
       "      <th>50%</th>\n",
       "      <td>1.114924</td>\n",
       "      <td>1.280160</td>\n",
       "      <td>0.621827</td>\n",
       "    </tr>\n",
       "    <tr>\n",
       "      <th>75%</th>\n",
       "      <td>1.215435</td>\n",
       "      <td>1.406659</td>\n",
       "      <td>0.696315</td>\n",
       "    </tr>\n",
       "    <tr>\n",
       "      <th>max</th>\n",
       "      <td>1.596023</td>\n",
       "      <td>1.818903</td>\n",
       "      <td>1.162959</td>\n",
       "    </tr>\n",
       "  </tbody>\n",
       "</table>\n",
       "</div>"
      ],
      "text/plain": [
       "                 X            Y           XY\n",
       "count  1000.000000  1000.000000  1000.000000\n",
       "mean      1.119627     1.292084     0.623398\n",
       "std       0.140114     0.168757     0.113104\n",
       "min       0.770379     0.788366     0.335519\n",
       "25%       1.024508     1.171304     0.541678\n",
       "50%       1.114924     1.280160     0.621827\n",
       "75%       1.215435     1.406659     0.696315\n",
       "max       1.596023     1.818903     1.162959"
      ]
     },
     "execution_count": 23,
     "metadata": {},
     "output_type": "execute_result"
    }
   ],
   "source": [
    "#Converting to pandas dataframes\n",
    "df_single_thread = pd.DataFrame(data = cov_arr.toarray(), columns = ['X', 'Y', 'XY'])\n",
    "df_single_thread.describe()"
   ]
  },
  {
   "cell_type": "code",
   "execution_count": 24,
   "metadata": {},
   "outputs": [
    {
     "data": {
      "text/html": [
       "<div>\n",
       "<style scoped>\n",
       "    .dataframe tbody tr th:only-of-type {\n",
       "        vertical-align: middle;\n",
       "    }\n",
       "\n",
       "    .dataframe tbody tr th {\n",
       "        vertical-align: top;\n",
       "    }\n",
       "\n",
       "    .dataframe thead th {\n",
       "        text-align: right;\n",
       "    }\n",
       "</style>\n",
       "<table border=\"1\" class=\"dataframe\">\n",
       "  <thead>\n",
       "    <tr style=\"text-align: right;\">\n",
       "      <th></th>\n",
       "      <th>X</th>\n",
       "      <th>Y</th>\n",
       "      <th>XY</th>\n",
       "    </tr>\n",
       "  </thead>\n",
       "  <tbody>\n",
       "    <tr>\n",
       "      <th>count</th>\n",
       "      <td>1000.000000</td>\n",
       "      <td>1000.000000</td>\n",
       "      <td>1000.000000</td>\n",
       "    </tr>\n",
       "    <tr>\n",
       "      <th>mean</th>\n",
       "      <td>1.118860</td>\n",
       "      <td>1.289308</td>\n",
       "      <td>0.615259</td>\n",
       "    </tr>\n",
       "    <tr>\n",
       "      <th>std</th>\n",
       "      <td>0.140195</td>\n",
       "      <td>0.167208</td>\n",
       "      <td>0.114501</td>\n",
       "    </tr>\n",
       "    <tr>\n",
       "      <th>min</th>\n",
       "      <td>0.691915</td>\n",
       "      <td>0.754858</td>\n",
       "      <td>0.276954</td>\n",
       "    </tr>\n",
       "    <tr>\n",
       "      <th>25%</th>\n",
       "      <td>1.019551</td>\n",
       "      <td>1.173500</td>\n",
       "      <td>0.533961</td>\n",
       "    </tr>\n",
       "    <tr>\n",
       "      <th>50%</th>\n",
       "      <td>1.115125</td>\n",
       "      <td>1.281806</td>\n",
       "      <td>0.615634</td>\n",
       "    </tr>\n",
       "    <tr>\n",
       "      <th>75%</th>\n",
       "      <td>1.209799</td>\n",
       "      <td>1.396905</td>\n",
       "      <td>0.692177</td>\n",
       "    </tr>\n",
       "    <tr>\n",
       "      <th>max</th>\n",
       "      <td>1.674749</td>\n",
       "      <td>1.886309</td>\n",
       "      <td>0.998497</td>\n",
       "    </tr>\n",
       "  </tbody>\n",
       "</table>\n",
       "</div>"
      ],
      "text/plain": [
       "                 X            Y           XY\n",
       "count  1000.000000  1000.000000  1000.000000\n",
       "mean      1.118860     1.289308     0.615259\n",
       "std       0.140195     0.167208     0.114501\n",
       "min       0.691915     0.754858     0.276954\n",
       "25%       1.019551     1.173500     0.533961\n",
       "50%       1.115125     1.281806     0.615634\n",
       "75%       1.209799     1.396905     0.692177\n",
       "max       1.674749     1.886309     0.998497"
      ]
     },
     "execution_count": 24,
     "metadata": {},
     "output_type": "execute_result"
    }
   ],
   "source": [
    "#Sync\n",
    "df_multithread_sync = pd.DataFrame(data = cov_arr_pool_sync.toarray(), \\\n",
    "                                   columns = ['X', 'Y', 'XY'])\n",
    "df_multithread_sync.describe()"
   ]
  },
  {
   "cell_type": "code",
   "execution_count": 25,
   "metadata": {},
   "outputs": [
    {
     "data": {
      "text/html": [
       "<div>\n",
       "<style scoped>\n",
       "    .dataframe tbody tr th:only-of-type {\n",
       "        vertical-align: middle;\n",
       "    }\n",
       "\n",
       "    .dataframe tbody tr th {\n",
       "        vertical-align: top;\n",
       "    }\n",
       "\n",
       "    .dataframe thead th {\n",
       "        text-align: right;\n",
       "    }\n",
       "</style>\n",
       "<table border=\"1\" class=\"dataframe\">\n",
       "  <thead>\n",
       "    <tr style=\"text-align: right;\">\n",
       "      <th></th>\n",
       "      <th>X</th>\n",
       "      <th>Y</th>\n",
       "      <th>XY</th>\n",
       "    </tr>\n",
       "  </thead>\n",
       "  <tbody>\n",
       "    <tr>\n",
       "      <th>count</th>\n",
       "      <td>1000.000000</td>\n",
       "      <td>1000.000000</td>\n",
       "      <td>1000.000000</td>\n",
       "    </tr>\n",
       "    <tr>\n",
       "      <th>mean</th>\n",
       "      <td>0.379765</td>\n",
       "      <td>0.436848</td>\n",
       "      <td>0.213056</td>\n",
       "    </tr>\n",
       "    <tr>\n",
       "      <th>std</th>\n",
       "      <td>0.540159</td>\n",
       "      <td>0.621488</td>\n",
       "      <td>0.306821</td>\n",
       "    </tr>\n",
       "    <tr>\n",
       "      <th>min</th>\n",
       "      <td>0.000000</td>\n",
       "      <td>0.000000</td>\n",
       "      <td>0.000000</td>\n",
       "    </tr>\n",
       "    <tr>\n",
       "      <th>25%</th>\n",
       "      <td>0.000000</td>\n",
       "      <td>0.000000</td>\n",
       "      <td>0.000000</td>\n",
       "    </tr>\n",
       "    <tr>\n",
       "      <th>50%</th>\n",
       "      <td>0.000000</td>\n",
       "      <td>0.000000</td>\n",
       "      <td>0.000000</td>\n",
       "    </tr>\n",
       "    <tr>\n",
       "      <th>75%</th>\n",
       "      <td>1.042374</td>\n",
       "      <td>1.193625</td>\n",
       "      <td>0.555584</td>\n",
       "    </tr>\n",
       "    <tr>\n",
       "      <th>max</th>\n",
       "      <td>1.547567</td>\n",
       "      <td>1.774634</td>\n",
       "      <td>1.011871</td>\n",
       "    </tr>\n",
       "  </tbody>\n",
       "</table>\n",
       "</div>"
      ],
      "text/plain": [
       "                 X            Y           XY\n",
       "count  1000.000000  1000.000000  1000.000000\n",
       "mean      0.379765     0.436848     0.213056\n",
       "std       0.540159     0.621488     0.306821\n",
       "min       0.000000     0.000000     0.000000\n",
       "25%       0.000000     0.000000     0.000000\n",
       "50%       0.000000     0.000000     0.000000\n",
       "75%       1.042374     1.193625     0.555584\n",
       "max       1.547567     1.774634     1.011871"
      ]
     },
     "execution_count": 25,
     "metadata": {},
     "output_type": "execute_result"
    }
   ],
   "source": [
    "#Async\n",
    "df_multithread_async = pd.DataFrame(data = cov_arr_pool_async.toarray(), \\\n",
    "                                    columns = ['X', 'Y', 'XY'])\n",
    "df_multithread_async.describe()"
   ]
  },
  {
   "cell_type": "code",
   "execution_count": 35,
   "metadata": {},
   "outputs": [
    {
     "data": {
      "image/png": "[encoded data removed]",
      "text/plain": [
       "<Figure size 1080x288 with 3 Axes>"
      ]
     },
     "metadata": {
      "needs_background": "light"
     },
     "output_type": "display_data"
    }
   ],
   "source": [
    "#Plotting the histograms of the variances \n",
    "fig, ax = plt.subplots(1,3, figsize=(15,4), constrained_layout =True)\n",
    "alpha = 0.5 #transparency \n",
    "\n",
    "ax[0].hist(df_single_thread['X'])\n",
    "ax[0].hist(df_single_thread['Y'])\n",
    "ax[0].hist(df_single_thread['XY'])\n",
    "ax[0].set_title('Serial Process-Single Thread (time:0.82 s)')\n",
    "\n",
    "ax[1].hist(df_multithread_sync['X'])\n",
    "ax[1].hist(df_multithread_sync['Y'])\n",
    "ax[1].hist(df_multithread_sync['XY'])\n",
    "ax[1].set_title('MultiProcessing - Synchronous Threading (time:1.18 s)')\n",
    "\n",
    "ax[2].hist(df_multithread_async['X'])\n",
    "ax[2].hist(df_multithread_async['Y'])\n",
    "ax[2].hist(df_multithread_async['XY'])\n",
    "ax[2].set_title('MultiProcessing - Asynchronous Threading (time:0.01 s)')\n",
    "\n",
    "\n",
    "lgd0 = ax[0].legend(frameon=False)\n",
    "lgd1 = ax[1].legend(frameon=False)\n",
    "lgd2 = ax[2].legend(frameon=False)\n",
    "\n",
    "fig.suptitle('$\\mathbf{Bootstrap\\ for\\ Estimating\\ Variability\\ using\\ scikit-learn}$'+'\\n'+ \\\n",
    "             r'Histograms of Variances of Asset1 (X) and Asset2 (Y), and covariance of Asset1 and Asset2 (XY) from Portfolio Data \\\n",
    "sampled %d times'%(bootstrap_num))\n",
    "plt.show()"
   ]
  },
  {
   "cell_type": "code",
   "execution_count": 36,
   "metadata": {},
   "outputs": [],
   "source": [
    "fig.savefig('BootStrap_Portfolio_Data.png', dpi = 100, format = 'png')"
   ]
  },
  {
   "cell_type": "markdown",
   "metadata": {},
   "source": [
    "#### Standard errors of all the processes are very similar"
   ]
  },
  {
   "cell_type": "code",
   "execution_count": 28,
   "metadata": {},
   "outputs": [],
   "source": [
    "#Calculating the fraction which represents the minimized risk of choosing X and Y in the form\n",
    "#frac(X) + (1 - frac)Y\n",
    "def frac(df):\n",
    "    return (df['Y'] - df['XY'])/(df['X']+df['Y']-2*df['XY'])"
   ]
  },
  {
   "cell_type": "code",
   "execution_count": 29,
   "metadata": {},
   "outputs": [
    {
     "name": "stderr",
     "output_type": "stream",
     "text": [
      "/home/sameer/anaconda3/lib/python3.5/site-packages/ipykernel/__main__.py:4: RuntimeWarning: invalid value encountered in true_divide\n"
     ]
    }
   ],
   "source": [
    "df_single_thread['frac'] = df_single_thread.apply(frac, axis=1)\n",
    "df_multithread_sync['frac'] = df_multithread_sync.apply(frac, axis=1)\n",
    "df_multithread_async['frac'] = df_multithread_async.apply(frac, axis=1)"
   ]
  },
  {
   "cell_type": "code",
   "execution_count": 30,
   "metadata": {},
   "outputs": [
    {
     "data": {
      "text/plain": [
       "count    1000.000000\n",
       "mean        0.575892\n",
       "std         0.090491\n",
       "min         0.299727\n",
       "25%         0.514035\n",
       "50%         0.574832\n",
       "75%         0.637787\n",
       "max         0.878735\n",
       "Name: frac, dtype: float64"
      ]
     },
     "execution_count": 30,
     "metadata": {},
     "output_type": "execute_result"
    }
   ],
   "source": [
    "df_single_thread['frac'].describe()"
   ]
  },
  {
   "cell_type": "code",
   "execution_count": 31,
   "metadata": {},
   "outputs": [
    {
     "data": {
      "text/plain": [
       "count    1000.000000\n",
       "mean        0.574468\n",
       "std         0.091376\n",
       "min         0.294362\n",
       "25%         0.509326\n",
       "50%         0.572043\n",
       "75%         0.635484\n",
       "max         0.895959\n",
       "Name: frac, dtype: float64"
      ]
     },
     "execution_count": 31,
     "metadata": {},
     "output_type": "execute_result"
    }
   ],
   "source": [
    "df_multithread_sync['frac'].describe()"
   ]
  },
  {
   "cell_type": "code",
   "execution_count": 32,
   "metadata": {},
   "outputs": [
    {
     "data": {
      "text/plain": [
       "count    336.000000\n",
       "mean       0.575144\n",
       "std        0.090669\n",
       "min        0.333293\n",
       "25%        0.520292\n",
       "50%        0.576072\n",
       "75%        0.631874\n",
       "max        0.818258\n",
       "Name: frac, dtype: float64"
      ]
     },
     "execution_count": 32,
     "metadata": {},
     "output_type": "execute_result"
    }
   ],
   "source": [
    "df_multithread_async['frac'].describe()"
   ]
  },
  {
   "cell_type": "code",
   "execution_count": 37,
   "metadata": {},
   "outputs": [
    {
     "name": "stderr",
     "output_type": "stream",
     "text": [
      "/home/sameer/anaconda3/lib/python3.5/site-packages/numpy/lib/histograms.py:746: RuntimeWarning: invalid value encountered in greater_equal\n",
      "  keep = (tmp_a >= first_edge)\n",
      "/home/sameer/anaconda3/lib/python3.5/site-packages/numpy/lib/histograms.py:747: RuntimeWarning: invalid value encountered in less_equal\n",
      "  keep &= (tmp_a <= last_edge)\n"
     ]
    },
    {
     "data": {
      "image/png": "[encoded data removed]",
      "text/plain": [
       "<Figure size 1080x288 with 3 Axes>"
      ]
     },
     "metadata": {
      "needs_background": "light"
     },
     "output_type": "display_data"
    }
   ],
   "source": [
    "#Plotting the histograms of the fraction  \n",
    "fig2, ax2 = plt.subplots(1,3, figsize=(15,4), constrained_layout =True, sharex = True) #\n",
    "alpha = 0.5 #transparency \n",
    "\n",
    "\n",
    "ax2[0].hist(df_single_thread['frac'], color = 'red')\n",
    "ax2[0].set_title('Serial Process-Single Thread (time: 0.82 s)', fontsize = 12)\n",
    "\n",
    "ax2[1].hist(df_multithread_sync['frac'], color = 'blue')\n",
    "ax2[1].set_title('MultiProcessing - Synchronous Threading (time:1.18 s)', fontsize = 12)\n",
    "\n",
    "ax2[2].hist(df_multithread_async['frac'], color = 'green')\n",
    "ax2[2].set_title('MultiProcessing - Asynchronous Threading (time:0.01 s)', fontsize = 12)\n",
    "\n",
    "[x.set_xlabel('fraction', fontsize = 17) for x in ax2]\n",
    "title = fig2.suptitle('$\\mathbf{Bootstrap\\ for\\ Estimating\\ Variability\\ using\\ scikit-learn}$', fontsize = 15) \n",
    "txt = fig2.text( x = 0, y = -0.22,  s = 'Minimizing risk using Bootstrap. Estimating the optimized fraction for \\\n",
    "fraction*(Asset1) + (1-fraction)* Asset2 by sampling (%d times) from a \\n financial portfolio of Assets 1 and 2 considering the significant variability \\\n",
    "of the assets. The mean gives the value representing minimum risk \\n and the standard deviation gives the variability to be considered \\\n",
    "in minimizing risk.'%(bootstrap_num), fontsize = 14)\n",
    "#\n",
    "plt.show()"
   ]
  },
  {
   "cell_type": "code",
   "execution_count": 38,
   "metadata": {},
   "outputs": [],
   "source": [
    "fig2.savefig('BootStrap_Ratio_Portfolio_Data.png', dpi = 100, format = 'png', bbox_extra_artists = (title,txt,), bbox_inches = 'tight')"
   ]
  },
  {
   "cell_type": "code",
   "execution_count": null,
   "metadata": {},
   "outputs": [],
   "source": []
  }
 ],
 "metadata": {
  "kernelspec": {
   "display_name": "Python [conda env:anaconda3]",
   "language": "python",
   "name": "conda-env-anaconda3-py"
  },
  "language_info": {
   "codemirror_mode": {
    "name": "ipython",
    "version": 3
   },
   "file_extension": ".py",
   "mimetype": "text/x-python",
   "name": "python",
   "nbconvert_exporter": "python",
   "pygments_lexer": "ipython3",
   "version": "3.5.6"
  },
  "widgets": {
   "state": {},
   "version": "1.1.2"
  }
 },
 "nbformat": 4,
 "nbformat_minor": 2
}
