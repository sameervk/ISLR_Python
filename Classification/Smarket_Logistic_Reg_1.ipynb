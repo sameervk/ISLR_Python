{
 "cells": [
  {
   "cell_type": "code",
   "execution_count": 46,
   "metadata": {},
   "outputs": [
    {
     "data": {
      "text/plain": [
       "'Author: Sameer Vajjala Kesava\\nChapter 4:Lab - Predicting direction of stock market\\nBook: An Introduction to Statistical Learning with Applications in R, \\n       Gareth James, Daniela Witten, Trevor Hastie and Robert Tibshirani\\nDataset: Smarket (downloaded from https://www-bcf.usc.edu/~gareth/ISL/ and converted to csv)\\nNo Cross Validation employed (yet).\\nFitting Logistic Regression and deriving statistics.\\nPackages used: numpy, pandas, sklearn and scipy'"
      ]
     },
     "execution_count": 46,
     "metadata": {},
     "output_type": "execute_result"
    }
   ],
   "source": [
    "\"\"\"Author: Sameer Vajjala Kesava\n",
    "\n",
    "Predicting direction of stock market.\n",
    "\n",
    "Fitting Logistic Regression to the complete dataset and deriving statistics.\n",
    "No Cross Validation employed (yet).\n",
    "\n",
    "Problem statement from Chapter 4\n",
    "Book: An Introduction to Statistical Learning with Applications in R, \n",
    "       Gareth James, Daniela Witten, Trevor Hastie and Robert Tibshirani\n",
    "\n",
    "Dataset: Smarket (downloaded from https://www-bcf.usc.edu/~gareth/ISL/ and converted to csv)\n",
    "\n",
    "Packages used: numpy, pandas, sklearn and scipy\"\"\""
   ]
  },
  {
   "cell_type": "code",
   "execution_count": 2,
   "metadata": {
    "nbpresent": {
     "id": "29cdaa70-7877-4ff5-a64f-bb3c3007a582"
    }
   },
   "outputs": [],
   "source": [
    "import pandas as pd\n",
    "import numpy as np"
   ]
  },
  {
   "cell_type": "code",
   "execution_count": null,
   "metadata": {},
   "outputs": [],
   "source": [
    "pd.options.display.max_columns = 100\n",
    "\n",
    "from IPython.core.display import display, HTML\n",
    "display(HTML(\"<style>.container { width:100% !important; }</style>\"))"
   ]
  },
  {
   "cell_type": "code",
   "execution_count": 3,
   "metadata": {
    "nbpresent": {
     "id": "72b4c047-f02f-40ab-9565-09ab38ee5cc3"
    }
   },
   "outputs": [
    {
     "name": "stdout",
     "output_type": "stream",
     "text": [
      "   Unnamed: 0    Year   Lag1   Lag2   Lag3   Lag4   Lag5  Volume  Today  \\\n",
      "0           1  2001.0  0.381 -0.192 -2.624 -1.055  5.010  1.1913  0.959   \n",
      "1           2  2001.0  0.959  0.381 -0.192 -2.624 -1.055  1.2965  1.032   \n",
      "2           3  2001.0  1.032  0.959  0.381 -0.192 -2.624  1.4112 -0.623   \n",
      "3           4  2001.0 -0.623  1.032  0.959  0.381 -0.192  1.2760  0.614   \n",
      "4           5  2001.0  0.614 -0.623  1.032  0.959  0.381  1.2057  0.213   \n",
      "5           6  2001.0  0.213  0.614 -0.623  1.032  0.959  1.3491  1.392   \n",
      "6           7  2001.0  1.392  0.213  0.614 -0.623  1.032  1.4450 -0.403   \n",
      "7           8  2001.0 -0.403  1.392  0.213  0.614 -0.623  1.4078  0.027   \n",
      "8           9  2001.0  0.027 -0.403  1.392  0.213  0.614  1.1640  1.303   \n",
      "9          10  2001.0  1.303  0.027 -0.403  1.392  0.213  1.2326  0.287   \n",
      "\n",
      "  Direction  \n",
      "0        Up  \n",
      "1        Up  \n",
      "2      Down  \n",
      "3        Up  \n",
      "4        Up  \n",
      "5        Up  \n",
      "6      Down  \n",
      "7        Up  \n",
      "8        Up  \n",
      "9        Up  \n"
     ]
    }
   ],
   "source": [
    "data_df = pd.read_csv(\"Smarket\")\n",
    "print(data_df.head(10))"
   ]
  },
  {
   "cell_type": "code",
   "execution_count": 4,
   "metadata": {
    "nbpresent": {
     "id": "cfc8ef56-6548-4e24-9203-374de0ed5d1b"
    }
   },
   "outputs": [
    {
     "name": "stdout",
     "output_type": "stream",
     "text": [
      "     Year   Lag1   Lag2   Lag3   Lag4   Lag5  Volume  Today Direction\n",
      "0  2001.0  0.381 -0.192 -2.624 -1.055  5.010  1.1913  0.959        Up\n",
      "1  2001.0  0.959  0.381 -0.192 -2.624 -1.055  1.2965  1.032        Up\n",
      "2  2001.0  1.032  0.959  0.381 -0.192 -2.624  1.4112 -0.623      Down\n",
      "3  2001.0 -0.623  1.032  0.959  0.381 -0.192  1.2760  0.614        Up\n",
      "4  2001.0  0.614 -0.623  1.032  0.959  0.381  1.2057  0.213        Up\n"
     ]
    }
   ],
   "source": [
    "data_df.drop(columns='Unnamed: 0', inplace=True)\n",
    "print(data_df.head(5))"
   ]
  },
  {
   "cell_type": "code",
   "execution_count": 5,
   "metadata": {
    "nbpresent": {
     "id": "aa293d27-e220-479b-92ed-b0e671980f8a"
    }
   },
   "outputs": [
    {
     "name": "stdout",
     "output_type": "stream",
     "text": [
      "Dimensions of the dataframe:  (1250, 9)\n"
     ]
    }
   ],
   "source": [
    "print('Dimensions of the dataframe: ', data_df.shape)"
   ]
  },
  {
   "cell_type": "code",
   "execution_count": 6,
   "metadata": {
    "nbpresent": {
     "id": "71c308ca-c459-4c37-84c9-fda643e366e8"
    }
   },
   "outputs": [
    {
     "name": "stdout",
     "output_type": "stream",
     "text": [
      "Summary: \n",
      "               Year         Lag1         Lag2         Lag3         Lag4  \\\n",
      "count  1250.000000  1250.000000  1250.000000  1250.000000  1250.000000   \n",
      "mean   2003.016000     0.003834     0.003919     0.001716     0.001636   \n",
      "std       1.409018     1.136299     1.136280     1.138703     1.138774   \n",
      "min    2001.000000    -4.922000    -4.922000    -4.922000    -4.922000   \n",
      "25%    2002.000000    -0.639500    -0.639500    -0.640000    -0.640000   \n",
      "50%    2003.000000     0.039000     0.039000     0.038500     0.038500   \n",
      "75%    2004.000000     0.596750     0.596750     0.596750     0.596750   \n",
      "max    2005.000000     5.733000     5.733000     5.733000     5.733000   \n",
      "\n",
      "             Lag5       Volume        Today  \n",
      "count  1250.00000  1250.000000  1250.000000  \n",
      "mean      0.00561     1.478305     0.003138  \n",
      "std       1.14755     0.360357     1.136334  \n",
      "min      -4.92200     0.356070    -4.922000  \n",
      "25%      -0.64000     1.257400    -0.639500  \n",
      "50%       0.03850     1.422950     0.038500  \n",
      "75%       0.59700     1.641675     0.596750  \n",
      "max       5.73300     3.152470     5.733000  \n"
     ]
    }
   ],
   "source": [
    "print('Summary: \\n', data_df.describe())"
   ]
  },
  {
   "cell_type": "code",
   "execution_count": 7,
   "metadata": {
    "nbpresent": {
     "id": "bfd41d4e-bd87-4631-8fc6-b0cd346ea81e"
    }
   },
   "outputs": [
    {
     "name": "stdout",
     "output_type": "stream",
     "text": [
      "<class 'pandas.core.frame.DataFrame'>\n",
      "RangeIndex: 1250 entries, 0 to 1249\n",
      "Data columns (total 9 columns):\n",
      "Year         1250 non-null float64\n",
      "Lag1         1250 non-null float64\n",
      "Lag2         1250 non-null float64\n",
      "Lag3         1250 non-null float64\n",
      "Lag4         1250 non-null float64\n",
      "Lag5         1250 non-null float64\n",
      "Volume       1250 non-null float64\n",
      "Today        1250 non-null float64\n",
      "Direction    1250 non-null object\n",
      "dtypes: float64(8), object(1)\n",
      "memory usage: 88.0+ KB\n",
      "None\n"
     ]
    }
   ],
   "source": [
    "print(data_df.info())"
   ]
  },
  {
   "cell_type": "code",
   "execution_count": 45,
   "metadata": {
    "nbpresent": {
     "id": "aa003f80-26ff-478a-a9c7-72e8de288526"
    }
   },
   "outputs": [
    {
     "data": {
      "text/plain": [
       "<matplotlib.axes._subplots.AxesSubplot at 0x7f270279ec18>"
      ]
     },
     "execution_count": 45,
     "metadata": {},
     "output_type": "execute_result"
    },
    {
     "data": {
      "image/png": "[encoded data removed]",
      "text/plain": [
       "<Figure size 432x288 with 1 Axes>"
      ]
     },
     "metadata": {
      "needs_background": "light"
     },
     "output_type": "display_data"
    }
   ],
   "source": [
    "#pandas itself has plotting functions. Can use matplotlib or seaborn for statistical plotting\n",
    "import matplotlib.pyplot as plt\n",
    "data_df['Volume'].hist()"
   ]
  },
  {
   "cell_type": "code",
   "execution_count": 9,
   "metadata": {},
   "outputs": [],
   "source": [
    "#models\n",
    "from sklearn.linear_model import LogisticRegression\n",
    "from sklearn.preprocessing import LabelEncoder"
   ]
  },
  {
   "cell_type": "markdown",
   "metadata": {},
   "source": [
    "#### Checking correlations between different variables"
   ]
  },
  {
   "cell_type": "code",
   "execution_count": 10,
   "metadata": {},
   "outputs": [
    {
     "name": "stdout",
     "output_type": "stream",
     "text": [
      "            Year      Lag1      Lag2      Lag3      Lag4      Lag5    Volume  \\\n",
      "Year    1.000000  0.029700  0.030596  0.033195  0.035689  0.029788  0.539006   \n",
      "Lag1    0.029700  1.000000 -0.026294 -0.010803 -0.002986 -0.005675  0.040910   \n",
      "Lag2    0.030596 -0.026294  1.000000 -0.025897 -0.010854 -0.003558 -0.043383   \n",
      "Lag3    0.033195 -0.010803 -0.025897  1.000000 -0.024051 -0.018808 -0.041824   \n",
      "Lag4    0.035689 -0.002986 -0.010854 -0.024051  1.000000 -0.027084 -0.048414   \n",
      "Lag5    0.029788 -0.005675 -0.003558 -0.018808 -0.027084  1.000000 -0.022002   \n",
      "Volume  0.539006  0.040910 -0.043383 -0.041824 -0.048414 -0.022002  1.000000   \n",
      "Today   0.030095 -0.026155 -0.010250 -0.002448 -0.006900 -0.034860  0.014592   \n",
      "\n",
      "           Today  \n",
      "Year    0.030095  \n",
      "Lag1   -0.026155  \n",
      "Lag2   -0.010250  \n",
      "Lag3   -0.002448  \n",
      "Lag4   -0.006900  \n",
      "Lag5   -0.034860  \n",
      "Volume  0.014592  \n",
      "Today   1.000000  \n"
     ]
    }
   ],
   "source": [
    "#different methods available.\n",
    "#automatically ignores non-numeric variables\n",
    "print(data_df.corr(method='pearson'))"
   ]
  },
  {
   "cell_type": "markdown",
   "metadata": {},
   "source": [
    "#### Logistic Regression to predict stock market direction"
   ]
  },
  {
   "cell_type": "code",
   "execution_count": 11,
   "metadata": {},
   "outputs": [],
   "source": [
    "#Direction as a function of Lag1 to Lag5 and Volume\n",
    "logreg =  LogisticRegression()"
   ]
  },
  {
   "cell_type": "code",
   "execution_count": 12,
   "metadata": {},
   "outputs": [
    {
     "data": {
      "text/html": [
       "<div>\n",
       "<style scoped>\n",
       "    .dataframe tbody tr th:only-of-type {\n",
       "        vertical-align: middle;\n",
       "    }\n",
       "\n",
       "    .dataframe tbody tr th {\n",
       "        vertical-align: top;\n",
       "    }\n",
       "\n",
       "    .dataframe thead th {\n",
       "        text-align: right;\n",
       "    }\n",
       "</style>\n",
       "<table border=\"1\" class=\"dataframe\">\n",
       "  <thead>\n",
       "    <tr style=\"text-align: right;\">\n",
       "      <th></th>\n",
       "      <th>Lag1</th>\n",
       "      <th>Lag2</th>\n",
       "      <th>Lag3</th>\n",
       "      <th>Lag4</th>\n",
       "      <th>Lag5</th>\n",
       "      <th>Volume</th>\n",
       "      <th>Direction</th>\n",
       "    </tr>\n",
       "  </thead>\n",
       "  <tbody>\n",
       "    <tr>\n",
       "      <th>0</th>\n",
       "      <td>0.381</td>\n",
       "      <td>-0.192</td>\n",
       "      <td>-2.624</td>\n",
       "      <td>-1.055</td>\n",
       "      <td>5.010</td>\n",
       "      <td>1.1913</td>\n",
       "      <td>Up</td>\n",
       "    </tr>\n",
       "    <tr>\n",
       "      <th>1</th>\n",
       "      <td>0.959</td>\n",
       "      <td>0.381</td>\n",
       "      <td>-0.192</td>\n",
       "      <td>-2.624</td>\n",
       "      <td>-1.055</td>\n",
       "      <td>1.2965</td>\n",
       "      <td>Up</td>\n",
       "    </tr>\n",
       "    <tr>\n",
       "      <th>2</th>\n",
       "      <td>1.032</td>\n",
       "      <td>0.959</td>\n",
       "      <td>0.381</td>\n",
       "      <td>-0.192</td>\n",
       "      <td>-2.624</td>\n",
       "      <td>1.4112</td>\n",
       "      <td>Down</td>\n",
       "    </tr>\n",
       "    <tr>\n",
       "      <th>3</th>\n",
       "      <td>-0.623</td>\n",
       "      <td>1.032</td>\n",
       "      <td>0.959</td>\n",
       "      <td>0.381</td>\n",
       "      <td>-0.192</td>\n",
       "      <td>1.2760</td>\n",
       "      <td>Up</td>\n",
       "    </tr>\n",
       "    <tr>\n",
       "      <th>4</th>\n",
       "      <td>0.614</td>\n",
       "      <td>-0.623</td>\n",
       "      <td>1.032</td>\n",
       "      <td>0.959</td>\n",
       "      <td>0.381</td>\n",
       "      <td>1.2057</td>\n",
       "      <td>Up</td>\n",
       "    </tr>\n",
       "  </tbody>\n",
       "</table>\n",
       "</div>"
      ],
      "text/plain": [
       "    Lag1   Lag2   Lag3   Lag4   Lag5  Volume Direction\n",
       "0  0.381 -0.192 -2.624 -1.055  5.010  1.1913        Up\n",
       "1  0.959  0.381 -0.192 -2.624 -1.055  1.2965        Up\n",
       "2  1.032  0.959  0.381 -0.192 -2.624  1.4112      Down\n",
       "3 -0.623  1.032  0.959  0.381 -0.192  1.2760        Up\n",
       "4  0.614 -0.623  1.032  0.959  0.381  1.2057        Up"
      ]
     },
     "execution_count": 12,
     "metadata": {},
     "output_type": "execute_result"
    }
   ],
   "source": [
    "data_1 = data_df.drop(columns = ['Year', 'Today'])\n",
    "data_1.head(5)"
   ]
  },
  {
   "cell_type": "code",
   "execution_count": 13,
   "metadata": {},
   "outputs": [],
   "source": [
    "label_encoder = LabelEncoder()"
   ]
  },
  {
   "cell_type": "code",
   "execution_count": 14,
   "metadata": {},
   "outputs": [
    {
     "name": "stdout",
     "output_type": "stream",
     "text": [
      "Encoded Direction:  [1 1 0 ... 1 0 0]\n"
     ]
    }
   ],
   "source": [
    "# encoding Direction with numeric values\n",
    "encoded_direction = label_encoder.fit_transform(data_1['Direction'])\n",
    "print('Encoded Direction: ', encoded_direction)"
   ]
  },
  {
   "cell_type": "code",
   "execution_count": 15,
   "metadata": {},
   "outputs": [
    {
     "name": "stdout",
     "output_type": "stream",
     "text": [
      "Encoded Classes:  ['Down' 'Up']\n"
     ]
    }
   ],
   "source": [
    "print('Encoded Classes: ', label_encoder.classes_)"
   ]
  },
  {
   "cell_type": "code",
   "execution_count": 16,
   "metadata": {},
   "outputs": [],
   "source": [
    "data_1.Direction =  encoded_direction"
   ]
  },
  {
   "cell_type": "code",
   "execution_count": 17,
   "metadata": {},
   "outputs": [
    {
     "name": "stdout",
     "output_type": "stream",
     "text": [
      "    Lag1   Lag2   Lag3   Lag4   Lag5  Volume  Direction\n",
      "0  0.381 -0.192 -2.624 -1.055  5.010  1.1913          1\n",
      "1  0.959  0.381 -0.192 -2.624 -1.055  1.2965          1\n",
      "2  1.032  0.959  0.381 -0.192 -2.624  1.4112          0\n",
      "3 -0.623  1.032  0.959  0.381 -0.192  1.2760          1\n",
      "4  0.614 -0.623  1.032  0.959  0.381  1.2057          1\n"
     ]
    }
   ],
   "source": [
    "print(data_1.head(5))"
   ]
  },
  {
   "cell_type": "code",
   "execution_count": 18,
   "metadata": {},
   "outputs": [],
   "source": [
    "x_true = data_1.drop(columns = 'Direction')\n",
    "y_true = data_1[['Direction']]\n"
   ]
  },
  {
   "cell_type": "code",
   "execution_count": 19,
   "metadata": {},
   "outputs": [
    {
     "name": "stderr",
     "output_type": "stream",
     "text": [
      "/home/sameer/anaconda3/lib/python3.5/site-packages/sklearn/linear_model/logistic.py:432: FutureWarning: Default solver will be changed to 'lbfgs' in 0.22. Specify a solver to silence this warning.\n",
      "  FutureWarning)\n"
     ]
    }
   ],
   "source": [
    "#Did not have to convert 'Direction' into category type\n",
    "fit_data_1 = logreg.fit(X = x_true, y = y_true['Direction'])"
   ]
  },
  {
   "cell_type": "code",
   "execution_count": 20,
   "metadata": {},
   "outputs": [
    {
     "name": "stdout",
     "output_type": "stream",
     "text": [
      "Parameter coefficients:  [[-0.07279035 -0.04229102  0.010958    0.00921799  0.01023031  0.12793931]]\n"
     ]
    }
   ],
   "source": [
    "print('Parameter coefficients: ', fit_data_1.coef_)"
   ]
  },
  {
   "cell_type": "code",
   "execution_count": 21,
   "metadata": {},
   "outputs": [
    {
     "name": "stdout",
     "output_type": "stream",
     "text": [
      "Intercept:  [-0.11454962]\n"
     ]
    }
   ],
   "source": [
    "print('Intercept: ', fit_data_1.intercept_)"
   ]
  },
  {
   "cell_type": "code",
   "execution_count": 22,
   "metadata": {},
   "outputs": [
    {
     "name": "stdout",
     "output_type": "stream",
     "text": [
      "Classes:  [0 1]\n"
     ]
    }
   ],
   "source": [
    "print('Classes: ', fit_data_1.classes_)"
   ]
  },
  {
   "cell_type": "code",
   "execution_count": 23,
   "metadata": {},
   "outputs": [
    {
     "name": "stdout",
     "output_type": "stream",
     "text": [
      "Regression parameters:  {'max_iter': 100, 'intercept_scaling': 1, 'warm_start': False, 'n_jobs': None, 'class_weight': None, 'tol': 0.0001, 'dual': False, 'multi_class': 'warn', 'verbose': 0, 'random_state': None, 'penalty': 'l2', 'fit_intercept': True, 'C': 1.0, 'solver': 'warn'}\n"
     ]
    }
   ],
   "source": [
    "print('Regression parameters: ', fit_data_1.get_params())"
   ]
  },
  {
   "cell_type": "code",
   "execution_count": 24,
   "metadata": {},
   "outputs": [
    {
     "data": {
      "text/plain": [
       "'Calculating statistics of the fit'"
      ]
     },
     "execution_count": 24,
     "metadata": {},
     "output_type": "execute_result"
    }
   ],
   "source": [
    "\"\"\"Calculating statistics of the fit\"\"\""
   ]
  },
  {
   "cell_type": "code",
   "execution_count": 25,
   "metadata": {},
   "outputs": [],
   "source": [
    "newX = pd.DataFrame({\"Constant\":np.ones(len(x_true))}).join(pd.DataFrame(x_true))"
   ]
  },
  {
   "cell_type": "code",
   "execution_count": 26,
   "metadata": {},
   "outputs": [],
   "source": [
    "#Predicted probabilities: 0: Down, 1: Up\n",
    "pred_prob = fit_data_1.predict_proba(data_1.drop(columns = 'Direction'))"
   ]
  },
  {
   "cell_type": "code",
   "execution_count": 27,
   "metadata": {},
   "outputs": [],
   "source": [
    "#Calculating variance matrix\n",
    "Variance = np.diagflat(np.prod(pred_prob, axis = 1), k = 0)"
   ]
  },
  {
   "cell_type": "code",
   "execution_count": 28,
   "metadata": {},
   "outputs": [
    {
     "name": "stdout",
     "output_type": "stream",
     "text": [
      "Convariance Matrix: \n",
      " [[ 5.79382512e-02  4.71315852e-04 -5.09896429e-04 -5.13174016e-04\n",
      "  -5.91547977e-04 -2.89314768e-04 -3.70390958e-02]\n",
      " [ 4.71315852e-04  2.51650524e-03  7.39971276e-05  2.60134189e-05\n",
      "   4.49550788e-06  1.13249384e-05 -3.32054166e-04]\n",
      " [-5.09896429e-04  7.39971276e-05  2.50844845e-03  7.22410854e-05\n",
      "   3.50818755e-05  1.30543137e-05  3.33861161e-04]\n",
      " [-5.13174016e-04  2.60134189e-05  7.22410854e-05  2.49372157e-03\n",
      "   6.85130712e-05  5.16067919e-05  3.43147061e-04]\n",
      " [-5.91547977e-04  4.49550788e-06  3.50818755e-05  6.85130712e-05\n",
      "   2.49725455e-03  7.16720149e-05  3.97305741e-04]\n",
      " [-2.89314768e-04  1.13249384e-05  1.30543137e-05  5.16067919e-05\n",
      "   7.16720149e-05  2.45127629e-03  1.86157254e-04]\n",
      " [-3.70390958e-02 -3.32054166e-04  3.33861161e-04  3.43147061e-04\n",
      "   3.97305741e-04  1.86157254e-04  2.50690884e-02]]\n"
     ]
    }
   ],
   "source": [
    "#Calculating Covariance Matrix of the fit: (X$_{T}$VX)-1\n",
    "Covariance_matrix = np.linalg.inv(np.dot(np.dot(newX.values.transpose(), Variance), newX.values))\n",
    "print('Convariance Matrix: \\n', Covariance_matrix)"
   ]
  },
  {
   "cell_type": "code",
   "execution_count": 29,
   "metadata": {},
   "outputs": [
    {
     "name": "stdout",
     "output_type": "stream",
     "text": [
      "Dimensions:  (7, 7)\n"
     ]
    }
   ],
   "source": [
    "print('Dimensions: ', Covariance_matrix.shape)"
   ]
  },
  {
   "cell_type": "code",
   "execution_count": 30,
   "metadata": {},
   "outputs": [
    {
     "name": "stdout",
     "output_type": "stream",
     "text": [
      "Standard Error of the coefficients:  [0.24070366 0.05016478 0.05008441 0.04993718 0.04997254 0.04951037\n",
      " 0.15833221]\n"
     ]
    }
   ],
   "source": [
    "std_err = np.sqrt(np.diagonal(Covariance_matrix))\n",
    "print('Standard Error of the coefficients: ', std_err)"
   ]
  },
  {
   "cell_type": "code",
   "execution_count": 31,
   "metadata": {},
   "outputs": [],
   "source": [
    "z_value = np.append(fit_data_1.intercept_, fit_data_1.coef_)/std_err"
   ]
  },
  {
   "cell_type": "code",
   "execution_count": 32,
   "metadata": {},
   "outputs": [
    {
     "name": "stdout",
     "output_type": "stream",
     "text": [
      "Z scores of the fit:  [-0.47589482 -1.45102503 -0.84439475  0.21943564  0.18446115  0.20662968\n",
      "  0.80804348]\n"
     ]
    }
   ],
   "source": [
    "print('Z scores of the fit: ' , z_value)"
   ]
  },
  {
   "cell_type": "code",
   "execution_count": 33,
   "metadata": {},
   "outputs": [
    {
     "data": {
      "text/plain": [
       "'Calculating p-values from Z scores'"
      ]
     },
     "execution_count": 33,
     "metadata": {},
     "output_type": "execute_result"
    }
   ],
   "source": [
    "\"\"\"Calculating p-values from Z scores\"\"\""
   ]
  },
  {
   "cell_type": "code",
   "execution_count": 34,
   "metadata": {},
   "outputs": [],
   "source": [
    "import scipy.stats as st"
   ]
  },
  {
   "cell_type": "code",
   "execution_count": 35,
   "metadata": {},
   "outputs": [
    {
     "name": "stdout",
     "output_type": "stream",
     "text": [
      "p values using Survival function: [0.63414931 0.14677289 0.39844885 0.82631071 0.8536517  0.83629908\n",
      " 0.41906555]\n"
     ]
    }
   ],
   "source": [
    "# Works with either two-sided survival function or from cdf of t-distribution\n",
    "p_values_sf =  st.norm.sf(np.abs(z_value))*2 #two-sided\n",
    "print('p values using Survival function:', p_values_sf)"
   ]
  },
  {
   "cell_type": "code",
   "execution_count": 36,
   "metadata": {},
   "outputs": [
    {
     "name": "stdout",
     "output_type": "stream",
     "text": [
      "p-values using cdf from t-distribution:  [0.63423254 0.14702399 0.39861056 0.82634656 0.85368165 0.83633276\n",
      " 0.41921942]\n"
     ]
    }
   ],
   "source": [
    "#assuming t-distribution, probably the right to use. Have to pass absolute values to the cdf function\n",
    "p_values_t_distr = 2*(1-st.t.cdf(np.abs(z_value),len(newX.values)-1))\n",
    "print('p-values using cdf from t-distribution: ', p_values_t_distr)"
   ]
  },
  {
   "cell_type": "code",
   "execution_count": 37,
   "metadata": {},
   "outputs": [
    {
     "name": "stdout",
     "output_type": "stream",
     "text": [
      "           Estimate  Std. Error   z value  Pr(>|z|)\n",
      "Intercept -0.114550    0.240704 -0.475895  0.634233\n",
      "Lag1      -0.072790    0.050165 -1.451025  0.147024\n",
      "Lag2      -0.042291    0.050084 -0.844395  0.398611\n",
      "Lag3       0.010958    0.049937  0.219436  0.826347\n",
      "Lag4       0.009218    0.049973  0.184461  0.853682\n",
      "Lag5       0.010230    0.049510  0.206630  0.836333\n",
      "Volume     0.127939    0.158332  0.808043  0.419219\n"
     ]
    }
   ],
   "source": [
    "#Compiling all the derived statistics as a Dataframe\n",
    "coeff_stats = pd.DataFrame(data=np.transpose([np.append(fit_data_1.intercept_, fit_data_1.coef_),std_err, z_value, p_values_t_distr]),\\\n",
    "                          index = ['Intercept'] + list(x_true.columns), columns = ['Estimate', 'Std. Error', 'z value', 'Pr(>|z|)'])\n",
    "print(coeff_stats)"
   ]
  },
  {
   "cell_type": "code",
   "execution_count": 38,
   "metadata": {},
   "outputs": [
    {
     "data": {
      "text/plain": [
       "'Calculating Confusion Matrix'"
      ]
     },
     "execution_count": 38,
     "metadata": {},
     "output_type": "execute_result"
    }
   ],
   "source": [
    "\"\"\"Calculating Confusion Matrix\"\"\""
   ]
  },
  {
   "cell_type": "code",
   "execution_count": 39,
   "metadata": {},
   "outputs": [],
   "source": [
    "from sklearn.metrics import confusion_matrix"
   ]
  },
  {
   "cell_type": "code",
   "execution_count": 40,
   "metadata": {},
   "outputs": [],
   "source": [
    "cm =  confusion_matrix(data_1['Direction'].values, fit_data_1.predict(x_true))"
   ]
  },
  {
   "cell_type": "code",
   "execution_count": 41,
   "metadata": {},
   "outputs": [],
   "source": [
    "cmdf = pd.DataFrame(cm, index = [list(y_true.columns)*y_true.nunique()[0], label_encoder.classes_],\\\n",
    "                    columns = [['Predicted']*y_true.nunique()[0], label_encoder.classes_])"
   ]
  },
  {
   "cell_type": "code",
   "execution_count": 42,
   "metadata": {},
   "outputs": [
    {
     "name": "stdout",
     "output_type": "stream",
     "text": [
      "Confusion Matrix: \n",
      "                Predicted     \n",
      "                    Down   Up\n",
      "Direction Down       143  459\n",
      "          Up         135  513\n"
     ]
    }
   ],
   "source": [
    "print('Confusion Matrix: \\n', cmdf)"
   ]
  },
  {
   "cell_type": "code",
   "execution_count": 43,
   "metadata": {},
   "outputs": [
    {
     "data": {
      "text/plain": [
       "'Prediction Accuracy'"
      ]
     },
     "execution_count": 43,
     "metadata": {},
     "output_type": "execute_result"
    }
   ],
   "source": [
    "\"\"\"Prediction Accuracy\"\"\""
   ]
  },
  {
   "cell_type": "code",
   "execution_count": 44,
   "metadata": {
    "scrolled": true
   },
   "outputs": [
    {
     "name": "stdout",
     "output_type": "stream",
     "text": [
      "Training error rate is 47.52%\n"
     ]
    }
   ],
   "source": [
    "print('Training error rate is {0:.2%}'.format(1 - fit_data_1.score(x_true,y_true)))"
   ]
  },
  {
   "cell_type": "code",
   "execution_count": null,
   "metadata": {},
   "outputs": [],
   "source": []
  }
 ],
 "metadata": {
  "kernelspec": {
   "display_name": "Python [conda env:anaconda3]",
   "language": "python",
   "name": "conda-env-anaconda3-py"
  },
  "language_info": {
   "codemirror_mode": {
    "name": "ipython",
    "version": 3
   },
   "file_extension": ".py",
   "mimetype": "text/x-python",
   "name": "python",
   "nbconvert_exporter": "python",
   "pygments_lexer": "ipython3",
   "version": "3.5.6"
  },
  "widgets": {
   "state": {},
   "version": "1.1.2"
  }
 },
 "nbformat": 4,
 "nbformat_minor": 1
}
